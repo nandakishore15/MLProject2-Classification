{
 "cells": [
  {
   "cell_type": "markdown",
   "metadata": {},
   "source": [
    "Import libaries."
   ]
  },
  {
   "cell_type": "code",
   "execution_count": 1,
   "metadata": {
    "collapsed": true
   },
   "outputs": [],
   "source": [
    "import numpy as np\n",
    "import scipy.io\n",
    "from MyCrossValidate import MyCrossValidate\n",
    "from returnparam import get_parameters\n",
    "from TrainMyClassifier import *"
   ]
  },
  {
   "cell_type": "code",
   "execution_count": 2,
   "metadata": {
    "collapsed": true
   },
   "outputs": [],
   "source": [
    "XTrain = scipy.io.loadmat('Proj2FeatVecsSet1.mat')['Proj2FeatVecsSet1']\n",
    "YTrain= scipy.io.loadmat('Proj2TargetOutputsSet1.mat')['Proj2TargetOutputsSet1']"
   ]
  },
  {
   "cell_type": "code",
   "execution_count": 3,
   "metadata": {},
   "outputs": [
    {
     "name": "stdout",
     "output_type": "stream",
     "text": [
      "['SVM', [{'kernel': ['linear'], 'C': [1, 10, 100, 1000], 'gamma': ['auto']}]]\n",
      "['RVM', [{'kernel': 'linear', 'bias_used': 'true', 'Initial beta': '1.e-6', 'threshold_alpha': '1e9', 'beta_fixed': 'false', 'tolerance': '1e-3', 'Initial alpha': '1e-6'}]]\n",
      "['GPR', [{'length_scale': 1.0, 'length_scale_bounds': (1e-05, 100000.0)}]]\n"
     ]
    }
   ],
   "source": [
    "Params1 = get_parameters(Algorithm = 'SVM')\n",
    "Params2 = get_parameters(Algorithm = 'RVM')\n",
    "Params3 = get_parameters(Algorithm = 'GPR')"
   ]
  },
  {
   "cell_type": "markdown",
   "metadata": {},
   "source": [
    "1. Perform 5-fold CV on SVM"
   ]
  },
  {
   "cell_type": "code",
   "execution_count": 4,
   "metadata": {},
   "outputs": [
    {
     "name": "stdout",
     "output_type": "stream",
     "text": [
      "Starting 1 cross validation...\n",
      "Finish 1 cross validation!\n",
      "Starting 2 cross validation...\n",
      "Finish 2 cross validation!\n",
      "Starting 3 cross validation...\n",
      "Finish 3 cross validation!\n",
      "Starting 4 cross validation...\n",
      "Finish 4 cross validation!\n",
      "Starting 5 cross validation...\n",
      "Finish 5 cross validation!\n",
      "Starting computing 1 confusion matrix...\n",
      "Confusion Matrix:\n",
      "                 1         2         3         4         5  NonClass\n",
      "1         0.996917  0.001028  0.002055  0.000000  0.000000  0.000000\n",
      "2         0.004004  0.965966  0.001001  0.023023  0.001001  0.005005\n",
      "3         0.006660  0.000951  0.982873  0.001903  0.007612  0.000000\n",
      "4         0.001978  0.017804  0.000989  0.965381  0.006924  0.006924\n",
      "5         0.002070  0.000000  0.004141  0.005176  0.985507  0.003106\n",
      "NonClass       NaN       NaN       NaN       NaN       NaN       NaN\n",
      "'NaN' represents no samples in this row of class\n",
      "Finish 1 confusion matrix!\n",
      "Starting computing 2 confusion matrix...\n",
      "Confusion Matrix:\n",
      "                 1         2         3         4         5  NonClass\n",
      "1         0.994106  0.000000  0.004912  0.000000  0.000000  0.000982\n",
      "2         0.001025  0.984631  0.000000  0.013320  0.000000  0.001025\n",
      "3         0.004119  0.001030  0.989701  0.001030  0.002060  0.002060\n",
      "4         0.000980  0.015686  0.003922  0.965686  0.002941  0.010784\n",
      "5         0.000000  0.000000  0.004926  0.002956  0.990148  0.001970\n",
      "NonClass       NaN       NaN       NaN       NaN       NaN       NaN\n",
      "'NaN' represents no samples in this row of class\n",
      "Finish 2 confusion matrix!\n",
      "Starting computing 3 confusion matrix...\n",
      "Confusion Matrix:\n",
      "                 1         2         3         4         5  NonClass\n",
      "1         0.995914  0.000000  0.002043  0.000000  0.001021  0.001021\n",
      "2         0.002979  0.969215  0.001986  0.020854  0.000000  0.004965\n",
      "3         0.008056  0.000000  0.975831  0.001007  0.007049  0.008056\n",
      "4         0.001007  0.012085  0.000000  0.975831  0.006042  0.005035\n",
      "5         0.000000  0.000000  0.002918  0.002918  0.993191  0.000973\n",
      "NonClass       NaN       NaN       NaN       NaN       NaN       NaN\n",
      "'NaN' represents no samples in this row of class\n",
      "Finish 3 confusion matrix!\n",
      "Starting computing 4 confusion matrix...\n",
      "Confusion Matrix:\n",
      "                 1         2         3         4         5  NonClass\n",
      "1         0.991168  0.004907  0.000981  0.000000  0.000000  0.002944\n",
      "2         0.000000  0.968592  0.002026  0.023303  0.000000  0.006079\n",
      "3         0.006098  0.001016  0.983740  0.001016  0.007114  0.001016\n",
      "4         0.000997  0.014955  0.000997  0.974078  0.006979  0.001994\n",
      "5         0.000993  0.000000  0.005958  0.002979  0.987090  0.002979\n",
      "NonClass       NaN       NaN       NaN       NaN       NaN       NaN\n",
      "'NaN' represents no samples in this row of class\n",
      "Finish 4 confusion matrix!\n",
      "Starting computing 5 confusion matrix...\n",
      "Confusion Matrix:\n",
      "                 1         2         3         4         5  NonClass\n",
      "1         0.994065  0.002967  0.002967  0.000000  0.000000  0.000000\n",
      "2         0.001940  0.978661  0.001940  0.012609  0.000000  0.004850\n",
      "3         0.001998  0.000999  0.984016  0.001998  0.007992  0.002997\n",
      "4         0.001028  0.013361  0.001028  0.971223  0.004111  0.009250\n",
      "5         0.004065  0.000000  0.003049  0.004065  0.981707  0.007114\n",
      "NonClass       NaN       NaN       NaN       NaN       NaN       NaN\n",
      "'NaN' represents no samples in this row of class\n",
      "Finish 5 confusion matrix!\n",
      "Starting computing the overall confusion matrix...\n",
      "Confusion Matrix:\n",
      "               1       2       3       4       5  NonClass\n",
      "1         0.9944  0.0018  0.0026  0.0000  0.0002    0.0010\n",
      "2         0.0020  0.9734  0.0014  0.0186  0.0002    0.0044\n",
      "3         0.0054  0.0008  0.9832  0.0014  0.0064    0.0028\n",
      "4         0.0012  0.0148  0.0014  0.9704  0.0054    0.0068\n",
      "5         0.0014  0.0000  0.0042  0.0036  0.9876    0.0032\n",
      "NonClass     NaN     NaN     NaN     NaN     NaN       NaN\n",
      "'NaN' represents no samples in this row of class\n",
      "Finish computing the overall confusion matrix!\n"
     ]
    },
    {
     "name": "stderr",
     "output_type": "stream",
     "text": [
      "MyConfusionMatrix.py:47: RuntimeWarning: invalid value encountered in divide\n",
      "  A = 1.0*Cf / row_sums[:, np.newaxis]\n"
     ]
    }
   ],
   "source": [
    "YSVM, EPSVM, ECFSVM, CFSVM = MyCrossValidate(XTrain = XTrain, ClassLabels = YTrain, Nf = 5, Parameters = Params1)"
   ]
  },
  {
   "cell_type": "code",
   "execution_count": 5,
   "metadata": {},
   "outputs": [
    {
     "data": {
      "text/plain": [
       "array([[9.944e-01, 1.800e-03, 2.600e-03, 0.000e+00, 2.000e-04, 1.000e-03],\n",
       "       [2.000e-03, 9.734e-01, 1.400e-03, 1.860e-02, 2.000e-04, 4.400e-03],\n",
       "       [5.400e-03, 8.000e-04, 9.832e-01, 1.400e-03, 6.400e-03, 2.800e-03],\n",
       "       [1.200e-03, 1.480e-02, 1.400e-03, 9.704e-01, 5.400e-03, 6.800e-03],\n",
       "       [1.400e-03, 0.000e+00, 4.200e-03, 3.600e-03, 9.876e-01, 3.200e-03],\n",
       "       [      nan,       nan,       nan,       nan,       nan,       nan]])"
      ]
     },
     "execution_count": 5,
     "metadata": {},
     "output_type": "execute_result"
    }
   ],
   "source": [
    "CFSVM"
   ]
  },
  {
   "cell_type": "code",
   "execution_count": 6,
   "metadata": {},
   "outputs": [
    {
     "data": {
      "text/plain": [
       "0.9818000000000001"
      ]
     },
     "execution_count": 6,
     "metadata": {},
     "output_type": "execute_result"
    }
   ],
   "source": [
    "A = CFSVM.diagonal()\n",
    "a = np.mean(A[0:5])\n",
    "a"
   ]
  },
  {
   "cell_type": "code",
   "execution_count": 7,
   "metadata": {},
   "outputs": [
    {
     "data": {
      "text/plain": [
       "array([150, 306, 204, 351, 190], dtype=int32)"
      ]
     },
     "execution_count": 7,
     "metadata": {},
     "output_type": "execute_result"
    }
   ],
   "source": [
    "EPSVM[1]['support_vectors']"
   ]
  },
  {
   "cell_type": "code",
   "execution_count": 13,
   "metadata": {},
   "outputs": [
    {
     "data": {
      "text/plain": [
       "1201"
      ]
     },
     "execution_count": 13,
     "metadata": {},
     "output_type": "execute_result"
    }
   ],
   "source": [
    "sum(EPSVM[1]['support_vectors'])"
   ]
  },
  {
   "cell_type": "code",
   "execution_count": 14,
   "metadata": {},
   "outputs": [
    {
     "data": {
      "text/plain": [
       "1182"
      ]
     },
     "execution_count": 14,
     "metadata": {},
     "output_type": "execute_result"
    }
   ],
   "source": [
    "EPSVM[2]['support_vectors']\n",
    "sum(EPSVM[2]['support_vectors'])"
   ]
  },
  {
   "cell_type": "code",
   "execution_count": 15,
   "metadata": {},
   "outputs": [
    {
     "data": {
      "text/plain": [
       "1183"
      ]
     },
     "execution_count": 15,
     "metadata": {},
     "output_type": "execute_result"
    }
   ],
   "source": [
    "EPSVM[3]['support_vectors']\n",
    "sum(EPSVM[3]['support_vectors'])"
   ]
  },
  {
   "cell_type": "code",
   "execution_count": 16,
   "metadata": {},
   "outputs": [
    {
     "data": {
      "text/plain": [
       "1182"
      ]
     },
     "execution_count": 16,
     "metadata": {},
     "output_type": "execute_result"
    }
   ],
   "source": [
    "EPSVM[4]['support_vectors']\n",
    "sum(EPSVM[4]['support_vectors'])"
   ]
  },
  {
   "cell_type": "code",
   "execution_count": 17,
   "metadata": {},
   "outputs": [
    {
     "data": {
      "text/plain": [
       "1143"
      ]
     },
     "execution_count": 17,
     "metadata": {},
     "output_type": "execute_result"
    }
   ],
   "source": [
    "EPSVM[0]['support_vectors']\n",
    "sum(EPSVM[0]['support_vectors'])"
   ]
  },
  {
   "cell_type": "markdown",
   "metadata": {},
   "source": [
    "2. Perform 5-fold CV on RVM"
   ]
  },
  {
   "cell_type": "code",
   "execution_count": null,
   "metadata": {},
   "outputs": [
    {
     "name": "stdout",
     "output_type": "stream",
     "text": [
      "Starting 1 cross validation...\n"
     ]
    }
   ],
   "source": [
    "YRVM, EPRVM, ECFRVM, CFRVM = MyCrossValidate(XTrain = XTrain, ClassLabels = YTrain, Nf = 5, Parameters = Params2)"
   ]
  },
  {
   "cell_type": "code",
   "execution_count": null,
   "metadata": {
    "collapsed": true
   },
   "outputs": [],
   "source": [
    "CFRVM"
   ]
  },
  {
   "cell_type": "code",
   "execution_count": null,
   "metadata": {
    "collapsed": true
   },
   "outputs": [],
   "source": [
    "B = CFRVM.diagonal()\n",
    "b = np.mean(B[0:5])\n",
    "b"
   ]
  },
  {
   "cell_type": "code",
   "execution_count": null,
   "metadata": {
    "collapsed": true
   },
   "outputs": [],
   "source": [
    "EPRVM['model']"
   ]
  },
  {
   "cell_type": "markdown",
   "metadata": {},
   "source": [
    "3. Perform 5-fold CV on GPR"
   ]
  },
  {
   "cell_type": "code",
   "execution_count": null,
   "metadata": {
    "collapsed": true
   },
   "outputs": [],
   "source": [
    "[YGPR, EPGPR, ECFGPR, CFGPR] = MyCrossValidate(XTrain = XTrain, ClassLabels = YTrain, Nf = 5, Parameters = Params3)"
   ]
  },
  {
   "cell_type": "code",
   "execution_count": null,
   "metadata": {
    "collapsed": true
   },
   "outputs": [],
   "source": [
    "CFGPR"
   ]
  }
 ],
 "metadata": {
  "kernelspec": {
   "display_name": "Python 2",
   "language": "python",
   "name": "python2"
  },
  "language_info": {
   "codemirror_mode": {
    "name": "ipython",
    "version": 2
   },
   "file_extension": ".py",
   "mimetype": "text/x-python",
   "name": "python",
   "nbconvert_exporter": "python",
   "pygments_lexer": "ipython2",
   "version": "2.7.14"
  }
 },
 "nbformat": 4,
 "nbformat_minor": 2
}
