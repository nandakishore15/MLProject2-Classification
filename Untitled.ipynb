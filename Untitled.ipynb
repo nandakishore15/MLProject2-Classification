{
 "cells": [
  {
   "cell_type": "markdown",
   "metadata": {},
   "source": [
    "Import libaries."
   ]
  },
  {
   "cell_type": "code",
   "execution_count": 43,
   "metadata": {},
   "outputs": [],
   "source": [
    "import numpy as np\n",
    "import scipy.io\n",
    "from MyCrossValidate import MyCrossValidate\n",
    "from TrainMyClassifier import TrainMyClassifier\n",
    "from returnparam import get_parameters"
   ]
  },
  {
   "cell_type": "code",
   "execution_count": 44,
   "metadata": {
    "collapsed": true
   },
   "outputs": [],
   "source": [
    "XTrain = scipy.io.loadmat('Proj2FeatVecsSet1.mat')['Proj2FeatVecsSet1']\n",
    "YTrain= scipy.io.loadmat('Proj2TargetOutputsSet1.mat')['Proj2TargetOutputsSet1']"
   ]
  },
  {
   "cell_type": "code",
   "execution_count": 45,
   "metadata": {},
   "outputs": [
    {
     "name": "stdout",
     "output_type": "stream",
     "text": [
      "['SVM', [{'kernel': ['rbf'], 'C': [1, 10, 100, 1000], 'gamma': [0.001, 0.0001]}, {'kernel': ['linear'], 'C': [1, 10, 100, 1000], 'gamma': ['auto']}]]\n",
      "['RVM', [{'kernel': 'linear', 'bias_used': 'true', 'Initial beta': '1.e-6', 'threshold_alpha': '1e9', 'beta_fixed': 'false', 'tolerance': '1e-3', 'Initial alpha': '1e-6'}]]\n",
      "['GPR', [{'length_scale': 1.0, 'length_scale_bounds': (1e-05, 100000.0)}]]\n"
     ]
    }
   ],
   "source": [
    "Params1 = get_parameters(Algorithm = 'SVM')\n",
    "Params2 = get_parameters(Algorithm = 'RVM')\n",
    "Params3 = get_parameters(Algorithm = 'GPR')"
   ]
  },
  {
   "cell_type": "markdown",
   "metadata": {},
   "source": [
    "1. Perform 5-fold CV on SVM"
   ]
  },
  {
   "cell_type": "code",
   "execution_count": 46,
   "metadata": {},
   "outputs": [
    {
     "ename": "NameError",
     "evalue": "global name 'TrainMyClassifier' is not defined",
     "output_type": "error",
     "traceback": [
      "\u001b[0;31m---------------------------------------------------------------------------\u001b[0m",
      "\u001b[0;31mNameError\u001b[0m                                 Traceback (most recent call last)",
      "\u001b[0;32m<ipython-input-46-2f2f2429b21d>\u001b[0m in \u001b[0;36m<module>\u001b[0;34m()\u001b[0m\n\u001b[0;32m----> 1\u001b[0;31m \u001b[0;34m[\u001b[0m\u001b[0mYSVM\u001b[0m\u001b[0;34m,\u001b[0m \u001b[0mEPSVM\u001b[0m\u001b[0;34m,\u001b[0m \u001b[0mECFSVM\u001b[0m\u001b[0;34m,\u001b[0m \u001b[0mCFSVM\u001b[0m\u001b[0;34m]\u001b[0m \u001b[0;34m=\u001b[0m \u001b[0mMyCrossValidate\u001b[0m\u001b[0;34m(\u001b[0m\u001b[0mXTrain\u001b[0m \u001b[0;34m=\u001b[0m \u001b[0mXTrain\u001b[0m\u001b[0;34m,\u001b[0m \u001b[0mClassLabels\u001b[0m \u001b[0;34m=\u001b[0m \u001b[0mYTrain\u001b[0m\u001b[0;34m,\u001b[0m \u001b[0mNf\u001b[0m \u001b[0;34m=\u001b[0m \u001b[0;36m5\u001b[0m\u001b[0;34m,\u001b[0m \u001b[0mParameters\u001b[0m \u001b[0;34m=\u001b[0m \u001b[0mParams1\u001b[0m\u001b[0;34m)\u001b[0m\u001b[0;34m\u001b[0m\u001b[0m\n\u001b[0m",
      "\u001b[0;32m/Users/luochuji/Desktop/Project2/MLProject2/MyCrossValidate.py\u001b[0m in \u001b[0;36mMyCrossValidate\u001b[0;34m(XTrain, ClassLabels, Nf, Parameters)\u001b[0m\n\u001b[1;32m     49\u001b[0m     \u001b[0mV_X\u001b[0m\u001b[0;34m,\u001b[0m \u001b[0mV_Y\u001b[0m\u001b[0;34m,\u001b[0m \u001b[0mE_X\u001b[0m\u001b[0;34m,\u001b[0m \u001b[0mE_Y\u001b[0m \u001b[0;34m=\u001b[0m \u001b[0mnp\u001b[0m\u001b[0;34m.\u001b[0m\u001b[0masarray\u001b[0m\u001b[0;34m(\u001b[0m\u001b[0mV_X\u001b[0m\u001b[0;34m)\u001b[0m\u001b[0;34m,\u001b[0m \u001b[0mnp\u001b[0m\u001b[0;34m.\u001b[0m\u001b[0masarray\u001b[0m\u001b[0;34m(\u001b[0m\u001b[0mV_Y\u001b[0m\u001b[0;34m)\u001b[0m\u001b[0;34m,\u001b[0m \u001b[0mnp\u001b[0m\u001b[0;34m.\u001b[0m\u001b[0masarray\u001b[0m\u001b[0;34m(\u001b[0m\u001b[0mE_X\u001b[0m\u001b[0;34m)\u001b[0m\u001b[0;34m,\u001b[0m \u001b[0mnp\u001b[0m\u001b[0;34m.\u001b[0m\u001b[0masarray\u001b[0m\u001b[0;34m(\u001b[0m\u001b[0mE_Y\u001b[0m\u001b[0;34m)\u001b[0m\u001b[0;34m\u001b[0m\u001b[0m\n\u001b[1;32m     50\u001b[0m \u001b[0;34m\u001b[0m\u001b[0m\n\u001b[0;32m---> 51\u001b[0;31m \u001b[0;34m\u001b[0m\u001b[0m\n\u001b[0m\u001b[1;32m     52\u001b[0m     \u001b[0;31m# step 2: estimate parameters and hyper-parameters using En and Vn\u001b[0m\u001b[0;34m\u001b[0m\u001b[0;34m\u001b[0m\u001b[0m\n\u001b[1;32m     53\u001b[0m     \u001b[0mYtrain\u001b[0m \u001b[0;34m=\u001b[0m \u001b[0;34m[\u001b[0m\u001b[0;34m]\u001b[0m\u001b[0;34m\u001b[0m\u001b[0m\n",
      "\u001b[0;31mNameError\u001b[0m: global name 'TrainMyClassifier' is not defined"
     ]
    }
   ],
   "source": [
    "[YSVM, EPSVM, ECFSVM, CFSVM] = MyCrossValidate(XTrain = XTrain, ClassLabels = YTrain, Nf = 5, Parameters = Params1)"
   ]
  },
  {
   "cell_type": "code",
   "execution_count": null,
   "metadata": {
    "collapsed": true
   },
   "outputs": [],
   "source": [
    "CFSVM"
   ]
  },
  {
   "cell_type": "code",
   "execution_count": null,
   "metadata": {
    "collapsed": true
   },
   "outputs": [],
   "source": [
    "A = CFSVM.diagonal()\n",
    "a = np.mean(A[0:5])\n",
    "a"
   ]
  },
  {
   "cell_type": "code",
   "execution_count": null,
   "metadata": {
    "collapsed": true
   },
   "outputs": [],
   "source": [
    "EPSVM['number of support vectors']"
   ]
  }
 ],
 "metadata": {
  "kernelspec": {
   "display_name": "Python 2",
   "language": "python",
   "name": "python2"
  },
  "language_info": {
   "codemirror_mode": {
    "name": "ipython",
    "version": 2
   },
   "file_extension": ".py",
   "mimetype": "text/x-python",
   "name": "python",
   "nbconvert_exporter": "python",
   "pygments_lexer": "ipython2",
   "version": "2.7.14"
  }
 },
 "nbformat": 4,
 "nbformat_minor": 2
}
