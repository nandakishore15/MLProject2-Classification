{
 "cells": [
  {
   "cell_type": "markdown",
   "metadata": {},
   "source": [
    "Import libaries."
   ]
  },
  {
   "cell_type": "code",
   "execution_count": 1,
   "metadata": {
    "collapsed": true
   },
   "outputs": [],
   "source": [
    "import numpy as np\n",
    "import scipy.io\n",
    "from MyCrossValidate import MyCrossValidate\n",
    "from returnparam import get_parameters\n",
    "from TrainMyClassifier import *"
   ]
  },
  {
   "cell_type": "code",
   "execution_count": 2,
   "metadata": {
    "collapsed": true
   },
   "outputs": [],
   "source": [
    "XTrain = scipy.io.loadmat('Proj2FeatVecsSet1.mat')['Proj2FeatVecsSet1']\n",
    "YTrain= scipy.io.loadmat('Proj2TargetOutputsSet1.mat')['Proj2TargetOutputsSet1']"
   ]
  },
  {
   "cell_type": "code",
   "execution_count": 3,
   "metadata": {},
   "outputs": [
    {
     "name": "stdout",
     "output_type": "stream",
     "text": [
      "['SVM', [{'kernel': ['linear'], 'C': [1, 10, 100, 1000], 'gamma': ['auto']}]]\n",
      "['RVM', [{'kernel': 'linear', 'bias_used': 'true', 'Initial beta': '1.e-6', 'threshold_alpha': '1e9', 'beta_fixed': 'false', 'tolerance': '1e-3', 'Initial alpha': '1e-6'}]]\n",
      "['GPR', [{'length_scale': 1.0, 'length_scale_bounds': (1e-05, 100000.0)}]]\n"
     ]
    }
   ],
   "source": [
    "Params1 = get_parameters(Algorithm = 'SVM')\n",
    "Params2 = get_parameters(Algorithm = 'RVM')\n",
    "Params3 = get_parameters(Algorithm = 'GPR')"
   ]
  },
  {
   "cell_type": "markdown",
   "metadata": {},
   "source": [
    "1. Perform 5-fold CV on SVM"
   ]
  },
  {
   "cell_type": "code",
   "execution_count": 47,
   "metadata": {},
   "outputs": [
    {
     "name": "stdout",
     "output_type": "stream",
     "text": [
      "Starting 1 cross validation...\n"
     ]
    },
    {
     "ename": "UnboundLocalError",
     "evalue": "local variable 'classLabels' referenced before assignment",
     "output_type": "error",
     "traceback": [
      "\u001b[0;31m---------------------------------------------------------------------------\u001b[0m",
      "\u001b[0;31mUnboundLocalError\u001b[0m                         Traceback (most recent call last)",
      "\u001b[0;32m<ipython-input-47-2f2f2429b21d>\u001b[0m in \u001b[0;36m<module>\u001b[0;34m()\u001b[0m\n\u001b[0;32m----> 1\u001b[0;31m \u001b[0;34m[\u001b[0m\u001b[0mYSVM\u001b[0m\u001b[0;34m,\u001b[0m \u001b[0mEPSVM\u001b[0m\u001b[0;34m,\u001b[0m \u001b[0mECFSVM\u001b[0m\u001b[0;34m,\u001b[0m \u001b[0mCFSVM\u001b[0m\u001b[0;34m]\u001b[0m \u001b[0;34m=\u001b[0m \u001b[0mMyCrossValidate\u001b[0m\u001b[0;34m(\u001b[0m\u001b[0mXTrain\u001b[0m \u001b[0;34m=\u001b[0m \u001b[0mXTrain\u001b[0m\u001b[0;34m,\u001b[0m \u001b[0mClassLabels\u001b[0m \u001b[0;34m=\u001b[0m \u001b[0mYTrain\u001b[0m\u001b[0;34m,\u001b[0m \u001b[0mNf\u001b[0m \u001b[0;34m=\u001b[0m \u001b[0;36m5\u001b[0m\u001b[0;34m,\u001b[0m \u001b[0mParameters\u001b[0m \u001b[0;34m=\u001b[0m \u001b[0mParams1\u001b[0m\u001b[0;34m)\u001b[0m\u001b[0;34m\u001b[0m\u001b[0m\n\u001b[0m",
      "\u001b[0;32m/Users/luochuji/Desktop/Project2/MLProject2/MyCrossValidate.pyc\u001b[0m in \u001b[0;36mMyCrossValidate\u001b[0;34m(XTrain, ClassLabels, Nf, Parameters)\u001b[0m\n\u001b[1;32m     63\u001b[0m         \u001b[0mCv\u001b[0m \u001b[0;34m=\u001b[0m \u001b[0mV_Y\u001b[0m\u001b[0;34m[\u001b[0m\u001b[0mi\u001b[0m\u001b[0;34m]\u001b[0m\u001b[0;34m\u001b[0m\u001b[0m\n\u001b[1;32m     64\u001b[0m         \u001b[0;31m## Call function 'TrainMyClassifier'. Here I assume all the inputs except 'Parameters' are numpy arrays.\u001b[0m\u001b[0;34m\u001b[0m\u001b[0;34m\u001b[0m\u001b[0m\n\u001b[0;32m---> 65\u001b[0;31m         \u001b[0;34m[\u001b[0m\u001b[0my\u001b[0m\u001b[0;34m,\u001b[0m \u001b[0mpar\u001b[0m\u001b[0;34m]\u001b[0m \u001b[0;34m=\u001b[0m \u001b[0mTrainMyClassifier\u001b[0m\u001b[0;34m(\u001b[0m\u001b[0mXEstimate\u001b[0m \u001b[0;34m=\u001b[0m \u001b[0mXe\u001b[0m\u001b[0;34m,\u001b[0m \u001b[0mYEstimate\u001b[0m \u001b[0;34m=\u001b[0m \u001b[0mCe\u001b[0m\u001b[0;34m,\u001b[0m \u001b[0mXValidate\u001b[0m \u001b[0;34m=\u001b[0m \u001b[0mXv\u001b[0m\u001b[0;34m,\u001b[0m  \u001b[0mYValidate\u001b[0m \u001b[0;34m=\u001b[0m \u001b[0mCv\u001b[0m\u001b[0;34m,\u001b[0m \u001b[0mParameters\u001b[0m \u001b[0;34m=\u001b[0m \u001b[0mParameters\u001b[0m\u001b[0;34m)\u001b[0m\u001b[0;34m\u001b[0m\u001b[0m\n\u001b[0m\u001b[1;32m     66\u001b[0m         \u001b[0mYtrain\u001b[0m\u001b[0;34m.\u001b[0m\u001b[0mappend\u001b[0m\u001b[0;34m(\u001b[0m\u001b[0my\u001b[0m\u001b[0;34m)\u001b[0m\u001b[0;34m\u001b[0m\u001b[0m\n\u001b[1;32m     67\u001b[0m         \u001b[0;32mprint\u001b[0m \u001b[0;34m'Finish'\u001b[0m\u001b[0;34m,\u001b[0m \u001b[0;34m(\u001b[0m\u001b[0mi\u001b[0m\u001b[0;34m+\u001b[0m\u001b[0;36m1\u001b[0m\u001b[0;34m)\u001b[0m\u001b[0;34m,\u001b[0m \u001b[0;34m'cross validation!'\u001b[0m\u001b[0;34m\u001b[0m\u001b[0m\n",
      "\u001b[0;32m/Users/luochuji/Desktop/Project2/MLProject2/TrainMyClassifier.py\u001b[0m in \u001b[0;36mTrainMyClassifier\u001b[0;34m(XEstimate, YEstimate, XValidate, YValidate, Parameters)\u001b[0m\n\u001b[1;32m    116\u001b[0m     \u001b[0mestParams\u001b[0m\u001b[0;34m[\u001b[0m\u001b[0;34m'classLabels'\u001b[0m\u001b[0;34m]\u001b[0m \u001b[0;34m=\u001b[0m \u001b[0mclassLabels\u001b[0m\u001b[0;34m\u001b[0m\u001b[0m\n\u001b[1;32m    117\u001b[0m     \u001b[0mestParams\u001b[0m\u001b[0;34m[\u001b[0m\u001b[0;34m'accuracy'\u001b[0m\u001b[0;34m]\u001b[0m \u001b[0;34m=\u001b[0m \u001b[0maccuracy\u001b[0m\u001b[0;34m\u001b[0m\u001b[0m\n\u001b[0;32m--> 118\u001b[0;31m \u001b[0;34m\u001b[0m\u001b[0m\n\u001b[0m\u001b[1;32m    119\u001b[0m     \u001b[0;32mreturn\u001b[0m \u001b[0mclassLabels\u001b[0m\u001b[0;34m,\u001b[0m \u001b[0mestParams\u001b[0m\u001b[0;34m\u001b[0m\u001b[0m\n",
      "\u001b[0;31mUnboundLocalError\u001b[0m: local variable 'classLabels' referenced before assignment"
     ]
    }
   ],
   "source": [
    "[YSVM, EPSVM, ECFSVM, CFSVM] = MyCrossValidate(XTrain = XTrain, ClassLabels = YTrain, Nf = 5, Parameters = Params1)"
   ]
  },
  {
   "cell_type": "code",
   "execution_count": 4,
   "metadata": {
    "collapsed": true
   },
   "outputs": [],
   "source": [
    "XTrain = XTrain\n",
    "ClassLabels = YTrain\n",
    "Nf = 5\n",
    "Parameters = Params1\n",
    "N = 25000"
   ]
  },
  {
   "cell_type": "code",
   "execution_count": 5,
   "metadata": {
    "collapsed": true
   },
   "outputs": [],
   "source": [
    "new_X = np.zeros_like(XTrain)\n",
    "new_Y = np.zeros_like(ClassLabels)\n",
    "idx = np.random.permutation(len(XTrain))\n",
    "for i, j in enumerate(idx):\n",
    "    new_X[i], new_Y[i] = XTrain[j], ClassLabels[j]\n",
    "        \n",
    "\n",
    "V_X = new_X[1:100]\n",
    "V_Y = new_Y[1:100]\n",
    "E_X = new_X[200:250]\n",
    "E_Y = new_Y[200:250]\n",
    "\n",
    "V_X = np.asarray(V_X)\n",
    "V_Y = np.asarray(V_Y)\n",
    "E_X = np.asarray(E_X)\n",
    "E_Y = np.asarray(E_Y)"
   ]
  },
  {
   "cell_type": "code",
   "execution_count": 6,
   "metadata": {
    "collapsed": true
   },
   "outputs": [],
   "source": [
    "(y, par) = TrainMyClassifier(XEstimate = E_X, YEstimate=E_Y, XValidate=V_X,  YValidate=V_Y, Parameters = Params1)"
   ]
  },
  {
   "cell_type": "code",
   "execution_count": 8,
   "metadata": {},
   "outputs": [
    {
     "ename": "TypeError",
     "evalue": "reload() argument must be module",
     "output_type": "error",
     "traceback": [
      "\u001b[0;31m---------------------------------------------------------------------------\u001b[0m",
      "\u001b[0;31mTypeError\u001b[0m                                 Traceback (most recent call last)",
      "\u001b[0;32m<ipython-input-8-f410274734ce>\u001b[0m in \u001b[0;36m<module>\u001b[0;34m()\u001b[0m\n\u001b[0;32m----> 1\u001b[0;31m \u001b[0mreload\u001b[0m\u001b[0;34m(\u001b[0m\u001b[0mTrainMyClassifier\u001b[0m\u001b[0;34m)\u001b[0m\u001b[0;34m;\u001b[0m\u001b[0;34m\u001b[0m\u001b[0m\n\u001b[0m",
      "\u001b[0;31mTypeError\u001b[0m: reload() argument must be module"
     ]
    }
   ],
   "source": [
    "reload(TrainMyClassifier);"
   ]
  },
  {
   "cell_type": "code",
   "execution_count": 9,
   "metadata": {},
   "outputs": [
    {
     "name": "stdout",
     "output_type": "stream",
     "text": [
      "[[1.82711908e-01 2.05818497e-01 6.05377985e-02 4.65138898e-01\n",
      "  8.57928988e-02]\n",
      " [6.42236335e-03 1.37863766e-01 3.57344165e-02 7.47946467e-01\n",
      "  7.20329870e-02]\n",
      " [5.50622562e-02 7.24903493e-02 7.62773110e-01 2.66602508e-02\n",
      "  8.30140335e-02]\n",
      " [3.31987861e-03 2.72982975e-02 2.97638362e-02 1.17864395e-02\n",
      "  9.27831548e-01]\n",
      " [3.63497307e-01 1.81383772e-01 1.59831857e-01 1.89032735e-01\n",
      "  1.06254329e-01]\n",
      " [4.28113670e-02 4.50869694e-02 7.71101754e-01 6.52696351e-02\n",
      "  7.57302748e-02]\n",
      " [3.99713312e-02 2.57979278e-02 4.13747336e-02 2.07020146e-02\n",
      "  8.72153993e-01]\n",
      " [8.82539616e-02 4.33065662e-02 8.04502754e-01 1.69891215e-02\n",
      "  4.69475971e-02]\n",
      " [4.64361003e-01 1.55629799e-01 1.24740390e-01 1.73911424e-01\n",
      "  8.13573838e-02]\n",
      " [9.94496500e-03 5.54554059e-03 3.94689363e-02 5.45982325e-03\n",
      "  9.39580735e-01]\n",
      " [1.08007666e-01 1.36692574e-01 6.95831722e-02 8.98809802e-02\n",
      "  5.95835608e-01]\n",
      " [7.79657753e-01 6.77647330e-02 9.82941874e-02 3.33909696e-02\n",
      "  2.08923567e-02]\n",
      " [9.64689013e-02 5.11063273e-02 7.11631141e-01 3.08139967e-02\n",
      "  1.09979633e-01]\n",
      " [1.16881282e-01 2.91446901e-01 1.10448398e-01 4.01987511e-01\n",
      "  7.92359083e-02]\n",
      " [1.29363783e-03 9.43306847e-01 5.44446629e-03 4.35952749e-02\n",
      "  6.35977356e-03]\n",
      " [5.33731269e-03 8.24893848e-01 3.00640689e-02 8.87233361e-02\n",
      "  5.09814339e-02]\n",
      " [1.10383539e-01 1.14163653e-01 2.27950846e-01 8.42678566e-02\n",
      "  4.63234105e-01]\n",
      " [1.40516520e-01 1.11123672e-01 5.39255090e-01 1.08265499e-01\n",
      "  1.00839219e-01]\n",
      " [1.98818831e-02 8.90611913e-01 2.71575311e-02 9.30963582e-03\n",
      "  5.30390372e-02]\n",
      " [7.79848764e-01 6.28535167e-02 1.26717856e-01 1.19814037e-02\n",
      "  1.85984593e-02]\n",
      " [2.11597293e-03 4.26174807e-02 1.89337740e-02 8.91977330e-01\n",
      "  4.43554421e-02]\n",
      " [4.73570463e-01 1.17881108e-01 1.24909061e-01 2.20910131e-01\n",
      "  6.27292368e-02]\n",
      " [7.84148184e-02 2.05967554e-01 6.90487687e-02 5.88318911e-01\n",
      "  5.82499482e-02]\n",
      " [7.56000780e-01 9.23493032e-02 1.16518412e-01 2.04621213e-02\n",
      "  1.46693834e-02]\n",
      " [8.17456293e-02 1.31505469e-01 5.33949715e-01 1.05208735e-01\n",
      "  1.47590451e-01]\n",
      " [1.40597509e-02 2.08019014e-02 8.51312168e-01 1.79548493e-02\n",
      "  9.58713304e-02]\n",
      " [1.23870491e-01 9.23925212e-02 2.51182179e-02 7.10090996e-01\n",
      "  4.85277745e-02]\n",
      " [2.44044007e-02 5.60808650e-02 3.29293164e-02 8.73981684e-01\n",
      "  1.26037339e-02]\n",
      " [1.37376071e-02 1.85071181e-01 4.78074465e-02 1.19627517e-01\n",
      "  6.33756248e-01]\n",
      " [1.09326811e-01 6.91012467e-02 7.17501867e-01 3.56274434e-02\n",
      "  6.84426318e-02]\n",
      " [1.92194939e-02 1.47621947e-01 9.46013053e-02 6.34623131e-01\n",
      "  1.03934123e-01]\n",
      " [5.97199276e-02 4.35449145e-01 1.96037458e-01 4.41045542e-02\n",
      "  2.64688915e-01]\n",
      " [4.11727471e-02 1.26789712e-01 4.65709191e-01 1.80341700e-01\n",
      "  1.85986651e-01]\n",
      " [7.80509535e-02 7.39393949e-02 7.02442042e-02 3.59851736e-02\n",
      "  7.41780274e-01]\n",
      " [1.03822116e-02 4.59647097e-02 7.71316575e-01 1.12557472e-01\n",
      "  5.97790318e-02]\n",
      " [1.42242242e-01 7.61390314e-02 9.79543359e-02 8.23506066e-02\n",
      "  6.01313784e-01]\n",
      " [3.84929576e-03 5.23224743e-01 1.73491765e-02 4.43668748e-01\n",
      "  1.19080370e-02]\n",
      " [2.54775689e-01 1.16571541e-01 8.81629237e-02 4.15451817e-01\n",
      "  1.25038029e-01]\n",
      " [6.49427000e-02 6.75091941e-02 6.70728918e-01 4.80685621e-02\n",
      "  1.48750625e-01]\n",
      " [4.04621912e-02 1.41781260e-01 5.98013537e-02 6.42809116e-01\n",
      "  1.15146079e-01]\n",
      " [8.41000999e-02 6.45421029e-01 1.46948563e-02 8.44411977e-02\n",
      "  1.71342817e-01]\n",
      " [2.58170329e-02 3.94173966e-02 8.97596300e-01 8.17769593e-03\n",
      "  2.89915745e-02]\n",
      " [2.73445413e-01 5.97580140e-01 8.39974696e-02 2.15141362e-02\n",
      "  2.34628410e-02]\n",
      " [8.70564774e-02 4.58910123e-02 8.96735846e-02 5.21153330e-02\n",
      "  7.25263593e-01]\n",
      " [1.51599297e-01 1.83029221e-01 5.50766666e-02 5.55457946e-01\n",
      "  5.48368698e-02]\n",
      " [8.90684383e-02 2.77575403e-01 2.81259026e-02 5.75583919e-01\n",
      "  2.96463376e-02]\n",
      " [1.08956658e-01 1.18478008e-01 5.20825370e-01 1.29193328e-01\n",
      "  1.22546637e-01]\n",
      " [1.26154768e-01 4.96871624e-01 6.35438275e-02 2.35510115e-01\n",
      "  7.79196651e-02]\n",
      " [1.44040438e-01 6.68879070e-02 2.42139333e-01 8.40569211e-02\n",
      "  4.62875400e-01]\n",
      " [1.50399578e-01 8.61537253e-02 6.08172901e-01 4.03916845e-02\n",
      "  1.14882111e-01]\n",
      " [7.72115189e-01 6.09463566e-02 1.05574510e-01 2.57555358e-02\n",
      "  3.56084088e-02]\n",
      " [7.44499696e-01 5.83894904e-02 1.58778226e-01 1.98358717e-02\n",
      "  1.84967158e-02]\n",
      " [2.35874028e-02 9.08545576e-02 3.89989244e-02 6.20948819e-02\n",
      "  7.84464233e-01]\n",
      " [9.09659769e-02 1.72631750e-01 6.40935243e-02 1.12056891e-01\n",
      "  5.60251858e-01]\n",
      " [7.14146175e-01 8.44272013e-02 1.25223979e-01 2.81677371e-02\n",
      "  4.80349074e-02]\n",
      " [2.08887535e-01 7.46557178e-02 1.53094879e-01 6.18080896e-02\n",
      "  5.01553779e-01]\n",
      " [8.23403741e-01 3.83951106e-02 6.28962975e-02 2.21917863e-02\n",
      "  5.31130644e-02]\n",
      " [1.46099620e-02 5.75028291e-02 4.79334554e-02 2.46965535e-02\n",
      "  8.55257200e-01]\n",
      " [3.74961374e-03 1.17789390e-03 1.04478087e-02 5.82893397e-03\n",
      "  9.78795750e-01]\n",
      " [3.26250817e-06 5.25475235e-06 9.96875494e-01 5.37821985e-04\n",
      "  2.57816689e-03]\n",
      " [2.47993011e-01 1.74545994e-01 3.62229418e-01 1.03515286e-01\n",
      "  1.11716291e-01]\n",
      " [2.43145794e-02 2.24175519e-02 2.26127985e-02 1.45396527e-02\n",
      "  9.16115417e-01]\n",
      " [6.62442200e-02 4.68345229e-01 6.68029538e-02 3.69140036e-01\n",
      "  2.94675618e-02]\n",
      " [1.55921731e-01 1.23398647e-01 3.89324638e-01 1.38579025e-01\n",
      "  1.92775958e-01]\n",
      " [8.48127201e-02 7.01189816e-01 1.09423307e-01 5.36524395e-02\n",
      "  5.09217168e-02]\n",
      " [4.70506615e-02 1.89769956e-01 7.58666157e-02 3.01385932e-01\n",
      "  3.85926835e-01]\n",
      " [2.59439949e-02 5.16146590e-01 4.13233040e-02 1.54668911e-01\n",
      "  2.61917200e-01]\n",
      " [7.54715487e-01 6.62908296e-02 9.07357164e-02 2.40585066e-02\n",
      "  6.41994599e-02]\n",
      " [1.16938176e-01 6.01590441e-02 7.23482360e-01 1.67483103e-02\n",
      "  8.26721101e-02]\n",
      " [4.92060075e-02 9.03342016e-02 3.47761995e-02 7.91455135e-01\n",
      "  3.42284562e-02]\n",
      " [1.17857683e-02 3.40407723e-02 2.21775573e-02 2.78474663e-02\n",
      "  9.04148436e-01]\n",
      " [2.79226859e-02 4.18510904e-02 7.50227985e-01 4.54908075e-02\n",
      "  1.34507431e-01]\n",
      " [8.37555723e-02 1.87298136e-01 4.14272165e-02 6.04750086e-01\n",
      "  8.27689893e-02]\n",
      " [4.99497378e-01 1.68341309e-01 1.16275584e-01 1.40537132e-01\n",
      "  7.53485971e-02]\n",
      " [4.18901381e-01 1.24449416e-01 2.46270949e-01 1.28456193e-01\n",
      "  8.19220616e-02]\n",
      " [4.33084531e-01 2.46874260e-01 1.13409865e-01 1.59055397e-01\n",
      "  4.75759462e-02]\n",
      " [1.48166432e-01 1.38786475e-01 1.13922334e-01 9.69098118e-02\n",
      "  5.02214947e-01]\n",
      " [3.77731136e-01 2.01501647e-01 1.42344139e-01 1.87129665e-01\n",
      "  9.12934125e-02]\n",
      " [8.49653053e-02 2.45890123e-01 2.39313337e-02 6.27156685e-01\n",
      "  1.80565529e-02]\n",
      " [7.84021203e-04 9.41077892e-03 9.61686213e-01 9.96456215e-03\n",
      "  1.81544246e-02]\n",
      " [7.34661624e-02 2.36603149e-01 5.04728445e-02 8.85957428e-02\n",
      "  5.50862101e-01]\n",
      " [1.90018102e-02 3.28531915e-02 6.34076589e-02 2.29014258e-02\n",
      "  8.61835914e-01]\n",
      " [6.93968773e-01 7.00711948e-02 1.19851950e-01 6.40912844e-02\n",
      "  5.20167977e-02]\n",
      " [3.33898047e-02 2.10548682e-01 6.04823487e-02 6.34099192e-01\n",
      "  6.14799720e-02]\n",
      " [1.71169644e-01 9.84706553e-02 6.34723638e-01 4.02208587e-02\n",
      "  5.54152039e-02]\n",
      " [1.23327253e-01 1.50292637e-01 3.85408417e-01 2.83857527e-01\n",
      "  5.71141659e-02]\n",
      " [5.94435117e-02 4.68721298e-02 1.26865775e-02 8.63791656e-01\n",
      "  1.72061252e-02]\n",
      " [1.79804041e-01 1.31865282e-01 5.14510470e-01 8.78315581e-02\n",
      "  8.59886488e-02]\n",
      " [5.09771895e-01 1.51635228e-01 1.32884185e-01 1.31846977e-01\n",
      "  7.38617158e-02]\n",
      " [1.53828172e-01 5.07991690e-01 3.23440475e-02 2.70147852e-01\n",
      "  3.56882378e-02]\n",
      " [1.39112755e-01 1.05455604e-01 1.08601941e-01 2.58316940e-01\n",
      "  3.88512761e-01]\n",
      " [6.02556079e-01 8.38592187e-02 9.61260654e-02 1.62810745e-01\n",
      "  5.46478921e-02]\n",
      " [1.27855141e-01 1.22844394e-01 8.79949615e-02 6.22099675e-01\n",
      "  3.92058289e-02]\n",
      " [4.03520291e-01 1.83009658e-01 1.45303487e-01 1.58933856e-01\n",
      "  1.09232708e-01]\n",
      " [4.42827877e-01 2.06221517e-01 2.37479813e-01 4.40565618e-02\n",
      "  6.94142315e-02]\n",
      " [4.26541361e-02 8.54383288e-02 1.91409696e-01 4.40195937e-02\n",
      "  6.36478245e-01]\n",
      " [3.78934839e-02 1.00206088e-01 4.86015400e-02 7.66171439e-01\n",
      "  4.71274494e-02]\n",
      " [2.34179442e-01 9.32784196e-02 6.08047861e-01 1.78434593e-02\n",
      "  4.66508180e-02]\n",
      " [1.17699377e-01 3.20556828e-01 5.45812309e-02 4.82067826e-01\n",
      "  2.50947370e-02]]\n"
     ]
    }
   ],
   "source": [
    "print(y)"
   ]
  },
  {
   "cell_type": "code",
   "execution_count": 10,
   "metadata": {},
   "outputs": [
    {
     "data": {
      "text/plain": [
       "(99, 5)"
      ]
     },
     "execution_count": 10,
     "metadata": {},
     "output_type": "execute_result"
    }
   ],
   "source": [
    "y.shape"
   ]
  },
  {
   "cell_type": "code",
   "execution_count": 11,
   "metadata": {},
   "outputs": [
    {
     "data": {
      "text/plain": [
       "array([1., 1., 1., 1., 1., 1., 1., 1., 1., 1., 1., 1., 1., 1., 1., 1., 1.,\n",
       "       1., 1., 1., 1., 1., 1., 1., 1., 1., 1., 1., 1., 1., 1., 1., 1., 1.,\n",
       "       1., 1., 1., 1., 1., 1., 1., 1., 1., 1., 1., 1., 1., 1., 1., 1., 1.,\n",
       "       1., 1., 1., 1., 1., 1., 1., 1., 1., 1., 1., 1., 1., 1., 1., 1., 1.,\n",
       "       1., 1., 1., 1., 1., 1., 1., 1., 1., 1., 1., 1., 1., 1., 1., 1., 1.,\n",
       "       1., 1., 1., 1., 1., 1., 1., 1., 1., 1., 1., 1., 1., 1.])"
      ]
     },
     "execution_count": 11,
     "metadata": {},
     "output_type": "execute_result"
    }
   ],
   "source": [
    "np.sum(y,axis=1)"
   ]
  },
  {
   "cell_type": "code",
   "execution_count": null,
   "metadata": {
    "collapsed": true
   },
   "outputs": [],
   "source": []
  },
  {
   "cell_type": "code",
   "execution_count": null,
   "metadata": {
    "collapsed": true
   },
   "outputs": [],
   "source": []
  },
  {
   "cell_type": "code",
   "execution_count": 107,
   "metadata": {},
   "outputs": [
    {
     "ename": "NameError",
     "evalue": "name 'CFSVM' is not defined",
     "output_type": "error",
     "traceback": [
      "\u001b[0;31m---------------------------------------------------------------------------\u001b[0m",
      "\u001b[0;31mNameError\u001b[0m                                 Traceback (most recent call last)",
      "\u001b[0;32m<ipython-input-107-e3f609871278>\u001b[0m in \u001b[0;36m<module>\u001b[0;34m()\u001b[0m\n\u001b[0;32m----> 1\u001b[0;31m \u001b[0mCFSVM\u001b[0m\u001b[0;34m\u001b[0m\u001b[0m\n\u001b[0m",
      "\u001b[0;31mNameError\u001b[0m: name 'CFSVM' is not defined"
     ]
    }
   ],
   "source": [
    "CFSVM"
   ]
  },
  {
   "cell_type": "code",
   "execution_count": null,
   "metadata": {
    "collapsed": true
   },
   "outputs": [],
   "source": [
    "A = CFSVM.diagonal()\n",
    "a = np.mean(A[0:5])\n",
    "a"
   ]
  },
  {
   "cell_type": "code",
   "execution_count": null,
   "metadata": {
    "collapsed": true
   },
   "outputs": [],
   "source": [
    "EPSVM['support_vectors']"
   ]
  },
  {
   "cell_type": "markdown",
   "metadata": {},
   "source": [
    "2. Perform 5-fold CV on RVM"
   ]
  },
  {
   "cell_type": "code",
   "execution_count": null,
   "metadata": {},
   "outputs": [
    {
     "name": "stdout",
     "output_type": "stream",
     "text": [
      "Starting 1 cross validation...\n"
     ]
    }
   ],
   "source": [
    "[YRVM, EPRVM, ECFRVM, CFRVM] = MyCrossValidate(XTrain = XTrain, ClassLabels = YTrain, Nf = 5, Parameters = Params2)"
   ]
  },
  {
   "cell_type": "code",
   "execution_count": null,
   "metadata": {
    "collapsed": true
   },
   "outputs": [],
   "source": [
    "CFRVM"
   ]
  },
  {
   "cell_type": "code",
   "execution_count": null,
   "metadata": {
    "collapsed": true
   },
   "outputs": [],
   "source": [
    "B = CFRVM.diagonal()\n",
    "b = np.mean(B[0:5])\n",
    "b"
   ]
  },
  {
   "cell_type": "code",
   "execution_count": null,
   "metadata": {
    "collapsed": true
   },
   "outputs": [],
   "source": [
    "EPRVM['model']"
   ]
  },
  {
   "cell_type": "markdown",
   "metadata": {},
   "source": [
    "3. Perform 5-fold CV on GPR"
   ]
  },
  {
   "cell_type": "code",
   "execution_count": null,
   "metadata": {
    "collapsed": true
   },
   "outputs": [],
   "source": [
    "[YGPR, EPGPR, ECFGPR, CFGPR] = MyCrossValidate(XTrain = XTrain, ClassLabels = YTrain, Nf = 5, Parameters = Params3)"
   ]
  },
  {
   "cell_type": "code",
   "execution_count": null,
   "metadata": {
    "collapsed": true
   },
   "outputs": [],
   "source": [
    "CFGPR"
   ]
  }
 ],
 "metadata": {
  "kernelspec": {
   "display_name": "Python 2",
   "language": "python",
   "name": "python2"
  },
  "language_info": {
   "codemirror_mode": {
    "name": "ipython",
    "version": 2
   },
   "file_extension": ".py",
   "mimetype": "text/x-python",
   "name": "python",
   "nbconvert_exporter": "python",
   "pygments_lexer": "ipython2",
   "version": "2.7.14"
  }
 },
 "nbformat": 4,
 "nbformat_minor": 2
}
