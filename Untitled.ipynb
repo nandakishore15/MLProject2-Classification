{
 "cells": [
  {
   "cell_type": "markdown",
   "metadata": {},
   "source": [
    "Import libaries."
   ]
  },
  {
   "cell_type": "code",
   "execution_count": 1,
   "metadata": {
    "collapsed": true
   },
   "outputs": [],
   "source": [
    "import numpy as np\n",
    "import scipy.io\n",
    "from MyCrossValidate import MyCrossValidate\n",
    "from returnparam import get_parameters\n",
    "from TrainMyClassifier import *"
   ]
  },
  {
   "cell_type": "code",
   "execution_count": 3,
   "metadata": {
    "collapsed": true
   },
   "outputs": [],
   "source": [
    "XTrain = scipy.io.loadmat('Proj2FeatVecsSet1.mat')['Proj2FeatVecsSet1']\n",
    "YTrain= scipy.io.loadmat('Proj2TargetOutputsSet1.mat')['Proj2TargetOutputsSet1']"
   ]
  },
  {
   "cell_type": "code",
   "execution_count": 4,
   "metadata": {},
   "outputs": [
    {
     "name": "stdout",
     "output_type": "stream",
     "text": [
      "['SVM', [{'kernel': ['linear'], 'C': [1, 10, 100, 1000], 'gamma': ['auto']}]]\n",
      "['RVM', [{'kernel': 'linear', 'bias_used': 'true', 'Initial beta': '1.e-6', 'threshold_alpha': '1e9', 'beta_fixed': 'false', 'tolerance': '1e-3', 'Initial alpha': '1e-6'}]]\n",
      "['GPR', [{'length_scale': 1.0, 'length_scale_bounds': (1e-05, 100000.0)}]]\n"
     ]
    }
   ],
   "source": [
    "Params1 = get_parameters(Algorithm = 'SVM')\n",
    "Params2 = get_parameters(Algorithm = 'RVM')\n",
    "Params3 = get_parameters(Algorithm = 'GPR')"
   ]
  },
  {
   "cell_type": "markdown",
   "metadata": {},
   "source": [
    "1. Perform 5-fold CV on SVM"
   ]
  },
  {
   "cell_type": "code",
   "execution_count": 4,
   "metadata": {},
   "outputs": [
    {
     "name": "stdout",
     "output_type": "stream",
     "text": [
      "Starting 1 cross validation...\n",
      "Finish 1 cross validation!\n",
      "Starting 2 cross validation...\n",
      "Finish 2 cross validation!\n",
      "Starting 3 cross validation...\n",
      "Finish 3 cross validation!\n",
      "Starting 4 cross validation...\n",
      "Finish 4 cross validation!\n",
      "Starting 5 cross validation...\n",
      "Finish 5 cross validation!\n",
      "Starting computing 1 confusion matrix...\n",
      "Confusion Matrix:\n",
      "                 1         2         3         4         5  NonClass\n",
      "1         0.996917  0.001028  0.002055  0.000000  0.000000  0.000000\n",
      "2         0.004004  0.965966  0.001001  0.023023  0.001001  0.005005\n",
      "3         0.006660  0.000951  0.982873  0.001903  0.007612  0.000000\n",
      "4         0.001978  0.017804  0.000989  0.965381  0.006924  0.006924\n",
      "5         0.002070  0.000000  0.004141  0.005176  0.985507  0.003106\n",
      "NonClass       NaN       NaN       NaN       NaN       NaN       NaN\n",
      "'NaN' represents no samples in this row of class\n",
      "Finish 1 confusion matrix!\n",
      "Starting computing 2 confusion matrix...\n",
      "Confusion Matrix:\n",
      "                 1         2         3         4         5  NonClass\n",
      "1         0.994106  0.000000  0.004912  0.000000  0.000000  0.000982\n",
      "2         0.001025  0.984631  0.000000  0.013320  0.000000  0.001025\n",
      "3         0.004119  0.001030  0.989701  0.001030  0.002060  0.002060\n",
      "4         0.000980  0.015686  0.003922  0.965686  0.002941  0.010784\n",
      "5         0.000000  0.000000  0.004926  0.002956  0.990148  0.001970\n",
      "NonClass       NaN       NaN       NaN       NaN       NaN       NaN\n",
      "'NaN' represents no samples in this row of class\n",
      "Finish 2 confusion matrix!\n",
      "Starting computing 3 confusion matrix...\n",
      "Confusion Matrix:\n",
      "                 1         2         3         4         5  NonClass\n",
      "1         0.995914  0.000000  0.002043  0.000000  0.001021  0.001021\n",
      "2         0.002979  0.969215  0.001986  0.020854  0.000000  0.004965\n",
      "3         0.008056  0.000000  0.975831  0.001007  0.007049  0.008056\n",
      "4         0.001007  0.012085  0.000000  0.975831  0.006042  0.005035\n",
      "5         0.000000  0.000000  0.002918  0.002918  0.993191  0.000973\n",
      "NonClass       NaN       NaN       NaN       NaN       NaN       NaN\n",
      "'NaN' represents no samples in this row of class\n",
      "Finish 3 confusion matrix!\n",
      "Starting computing 4 confusion matrix...\n",
      "Confusion Matrix:\n",
      "                 1         2         3         4         5  NonClass\n",
      "1         0.991168  0.004907  0.000981  0.000000  0.000000  0.002944\n",
      "2         0.000000  0.968592  0.002026  0.023303  0.000000  0.006079\n",
      "3         0.006098  0.001016  0.983740  0.001016  0.007114  0.001016\n",
      "4         0.000997  0.014955  0.000997  0.974078  0.006979  0.001994\n",
      "5         0.000993  0.000000  0.005958  0.002979  0.987090  0.002979\n",
      "NonClass       NaN       NaN       NaN       NaN       NaN       NaN\n",
      "'NaN' represents no samples in this row of class\n",
      "Finish 4 confusion matrix!\n",
      "Starting computing 5 confusion matrix...\n",
      "Confusion Matrix:\n",
      "                 1         2         3         4         5  NonClass\n",
      "1         0.994065  0.002967  0.002967  0.000000  0.000000  0.000000\n",
      "2         0.001940  0.978661  0.001940  0.012609  0.000000  0.004850\n",
      "3         0.001998  0.000999  0.984016  0.001998  0.007992  0.002997\n",
      "4         0.001028  0.013361  0.001028  0.971223  0.004111  0.009250\n",
      "5         0.004065  0.000000  0.003049  0.004065  0.981707  0.007114\n",
      "NonClass       NaN       NaN       NaN       NaN       NaN       NaN\n",
      "'NaN' represents no samples in this row of class\n",
      "Finish 5 confusion matrix!\n",
      "Starting computing the overall confusion matrix...\n",
      "Confusion Matrix:\n",
      "               1       2       3       4       5  NonClass\n",
      "1         0.9944  0.0018  0.0026  0.0000  0.0002    0.0010\n",
      "2         0.0020  0.9734  0.0014  0.0186  0.0002    0.0044\n",
      "3         0.0054  0.0008  0.9832  0.0014  0.0064    0.0028\n",
      "4         0.0012  0.0148  0.0014  0.9704  0.0054    0.0068\n",
      "5         0.0014  0.0000  0.0042  0.0036  0.9876    0.0032\n",
      "NonClass     NaN     NaN     NaN     NaN     NaN       NaN\n",
      "'NaN' represents no samples in this row of class\n",
      "Finish computing the overall confusion matrix!\n"
     ]
    },
    {
     "name": "stderr",
     "output_type": "stream",
     "text": [
      "MyConfusionMatrix.py:47: RuntimeWarning: invalid value encountered in divide\n",
      "  A = 1.0*Cf / row_sums[:, np.newaxis]\n"
     ]
    }
   ],
   "source": [
    "YSVM, EPSVM, ECFSVM, CFSVM = MyCrossValidate(XTrain = XTrain, ClassLabels = YTrain, Nf = 5, Parameters = Params1)"
   ]
  },
  {
   "cell_type": "code",
   "execution_count": 5,
   "metadata": {},
   "outputs": [
    {
     "data": {
      "text/plain": [
       "array([[9.944e-01, 1.800e-03, 2.600e-03, 0.000e+00, 2.000e-04, 1.000e-03],\n",
       "       [2.000e-03, 9.734e-01, 1.400e-03, 1.860e-02, 2.000e-04, 4.400e-03],\n",
       "       [5.400e-03, 8.000e-04, 9.832e-01, 1.400e-03, 6.400e-03, 2.800e-03],\n",
       "       [1.200e-03, 1.480e-02, 1.400e-03, 9.704e-01, 5.400e-03, 6.800e-03],\n",
       "       [1.400e-03, 0.000e+00, 4.200e-03, 3.600e-03, 9.876e-01, 3.200e-03],\n",
       "       [      nan,       nan,       nan,       nan,       nan,       nan]])"
      ]
     },
     "execution_count": 5,
     "metadata": {},
     "output_type": "execute_result"
    }
   ],
   "source": [
    "CFSVM"
   ]
  },
  {
   "cell_type": "code",
   "execution_count": 6,
   "metadata": {},
   "outputs": [
    {
     "data": {
      "text/plain": [
       "0.9818000000000001"
      ]
     },
     "execution_count": 6,
     "metadata": {},
     "output_type": "execute_result"
    }
   ],
   "source": [
    "A = CFSVM.diagonal()\n",
    "a = np.mean(A[0:5])\n",
    "a"
   ]
  },
  {
   "cell_type": "code",
   "execution_count": 7,
   "metadata": {},
   "outputs": [
    {
     "data": {
      "text/plain": [
       "array([150, 306, 204, 351, 190], dtype=int32)"
      ]
     },
     "execution_count": 7,
     "metadata": {},
     "output_type": "execute_result"
    }
   ],
   "source": [
    "EPSVM[1]['support_vectors']"
   ]
  },
  {
   "cell_type": "code",
   "execution_count": 13,
   "metadata": {},
   "outputs": [
    {
     "data": {
      "text/plain": [
       "1201"
      ]
     },
     "execution_count": 13,
     "metadata": {},
     "output_type": "execute_result"
    }
   ],
   "source": [
    "sum(EPSVM[1]['support_vectors'])"
   ]
  },
  {
   "cell_type": "code",
   "execution_count": 14,
   "metadata": {},
   "outputs": [
    {
     "data": {
      "text/plain": [
       "1182"
      ]
     },
     "execution_count": 14,
     "metadata": {},
     "output_type": "execute_result"
    }
   ],
   "source": [
    "EPSVM[2]['support_vectors']\n",
    "sum(EPSVM[2]['support_vectors'])"
   ]
  },
  {
   "cell_type": "code",
   "execution_count": 15,
   "metadata": {},
   "outputs": [
    {
     "data": {
      "text/plain": [
       "1183"
      ]
     },
     "execution_count": 15,
     "metadata": {},
     "output_type": "execute_result"
    }
   ],
   "source": [
    "EPSVM[3]['support_vectors']\n",
    "sum(EPSVM[3]['support_vectors'])"
   ]
  },
  {
   "cell_type": "code",
   "execution_count": 16,
   "metadata": {},
   "outputs": [
    {
     "data": {
      "text/plain": [
       "1182"
      ]
     },
     "execution_count": 16,
     "metadata": {},
     "output_type": "execute_result"
    }
   ],
   "source": [
    "EPSVM[4]['support_vectors']\n",
    "sum(EPSVM[4]['support_vectors'])"
   ]
  },
  {
   "cell_type": "code",
   "execution_count": 17,
   "metadata": {},
   "outputs": [
    {
     "data": {
      "text/plain": [
       "1143"
      ]
     },
     "execution_count": 17,
     "metadata": {},
     "output_type": "execute_result"
    }
   ],
   "source": [
    "EPSVM[0]['support_vectors']\n",
    "sum(EPSVM[0]['support_vectors'])"
   ]
  },
  {
   "cell_type": "markdown",
   "metadata": {},
   "source": [
    "2. Perform 5-fold CV on RVM"
   ]
  },
  {
   "cell_type": "code",
   "execution_count": 5,
   "metadata": {
    "collapsed": true
   },
   "outputs": [],
   "source": [
    "# the number of samples in 'XTrain'\n",
    "N = np.shape(YTrain)[0]\n",
    "Nc = np.shape(YTrain)[1]\n",
    "       \n",
    "# step 1: randomly partition 'XTrain' into Nf pairs of En and Vn\n",
    "new_X = np.zeros_like(XTrain)\n",
    "new_Y = np.zeros_like(YTrain)\n",
    "idx = np.random.permutation(len(XTrain))\n",
    "for i, j in enumerate(idx):\n",
    "    new_X[i], new_Y[i] = XTrain[j], YTrain[j]"
   ]
  },
  {
   "cell_type": "code",
   "execution_count": 6,
   "metadata": {
    "collapsed": true
   },
   "outputs": [],
   "source": [
    "xTrain = new_X[0:5000]\n",
    "yTrain = new_Y[0:5000]\n",
    "XTRAIN, YTRAIN = 'XTRAIN', 'YTRAIN'\n",
    "np.save(XTRAIN, xTrain)\n",
    "np.save(YTRAIN, yTrain)"
   ]
  },
  {
   "cell_type": "code",
   "execution_count": 7,
   "metadata": {},
   "outputs": [
    {
     "name": "stdout",
     "output_type": "stream",
     "text": [
      "Starting 1 cross validation...\n",
      "Finish 1 cross validation!\n",
      "Starting 2 cross validation...\n",
      "Finish 2 cross validation!\n",
      "Starting 3 cross validation...\n",
      "Finish 3 cross validation!\n",
      "Starting 4 cross validation...\n",
      "Finish 4 cross validation!\n",
      "Starting 5 cross validation...\n",
      "Finish 5 cross validation!\n",
      "Confusion Matrix:\n",
      "               1         2         3         4         5    Unseen\n",
      "1       0.921296  0.009259  0.009259  0.000000  0.009259  0.050926\n",
      "2       0.010101  0.863636  0.000000  0.111111  0.000000  0.015152\n",
      "3       0.000000  0.004695  0.863850  0.009390  0.070423  0.051643\n",
      "4       0.022099  0.077348  0.000000  0.828729  0.027624  0.044199\n",
      "5       0.010417  0.010417  0.020833  0.052083  0.890625  0.015625\n",
      "Unseen       NaN       NaN       NaN       NaN       NaN       NaN\n",
      "'NaN' represents no samples in this row of class\n",
      "Confusion Matrix:\n",
      "               1         2         3         4         5    Unseen\n",
      "1       0.942105  0.015789  0.031579  0.000000  0.000000  0.010526\n",
      "2       0.026738  0.882353  0.005348  0.058824  0.005348  0.021390\n",
      "3       0.010811  0.000000  0.956757  0.000000  0.016216  0.016216\n",
      "4       0.004630  0.148148  0.018519  0.763889  0.013889  0.050926\n",
      "5       0.004505  0.000000  0.036036  0.067568  0.869369  0.022523\n",
      "Unseen       NaN       NaN       NaN       NaN       NaN       NaN\n",
      "'NaN' represents no samples in this row of class\n",
      "Confusion Matrix:\n",
      "               1         2         3         4         5    Unseen\n",
      "1       0.010309  0.195876  0.046392  0.685567  0.000000  0.061856\n",
      "2       0.373333  0.377778  0.137778  0.017778  0.008889  0.084444\n",
      "3       0.000000  0.321782  0.396040  0.143564  0.099010  0.039604\n",
      "4       0.500000  0.005155  0.324742  0.077320  0.015464  0.077320\n",
      "5       0.016216  0.000000  0.059459  0.005405  0.881081  0.037838\n",
      "Unseen       NaN       NaN       NaN       NaN       NaN       NaN\n",
      "'NaN' represents no samples in this row of class\n",
      "Confusion Matrix:\n",
      "               1         2         3         4         5    Unseen\n",
      "1       0.707547  0.014151  0.264151  0.000000  0.000000  0.014151\n",
      "2       0.041451  0.673575  0.000000  0.186528  0.036269  0.062176\n",
      "3       0.101604  0.005348  0.171123  0.032086  0.609626  0.080214\n",
      "4       0.000000  0.144928  0.028986  0.753623  0.043478  0.028986\n",
      "5       0.000000  0.029851  0.452736  0.039801  0.432836  0.044776\n",
      "Unseen       NaN       NaN       NaN       NaN       NaN       NaN\n",
      "'NaN' represents no samples in this row of class\n",
      "Confusion Matrix:\n",
      "               1         2         3         4         5    Unseen\n",
      "1       0.923858  0.015228  0.030457  0.015228  0.000000  0.015228\n",
      "2       0.035294  0.647059  0.005882  0.294118  0.000000  0.017647\n",
      "3       0.018605  0.055814  0.860465  0.000000  0.041860  0.023256\n",
      "4       0.009259  0.282407  0.013889  0.597222  0.060185  0.037037\n",
      "5       0.014851  0.000000  0.059406  0.064356  0.792079  0.069307\n",
      "Unseen       NaN       NaN       NaN       NaN       NaN       NaN\n",
      "'NaN' represents no samples in this row of class\n",
      "Confusion Matrix:\n",
      "               1         2         3         4         5    Unseen\n",
      "1       0.705649  0.048563  0.078295  0.134787  0.001982  0.030723\n",
      "2       0.107914  0.679342  0.033916  0.126413  0.010277  0.042138\n",
      "3       0.024950  0.078842  0.656687  0.036926  0.160679  0.041916\n",
      "4       0.102564  0.136095  0.074951  0.606509  0.032544  0.047337\n",
      "5       0.008982  0.007984  0.125749  0.046906  0.772455  0.037924\n",
      "Unseen       NaN       NaN       NaN       NaN       NaN       NaN\n",
      "'NaN' represents no samples in this row of class\n"
     ]
    },
    {
     "name": "stderr",
     "output_type": "stream",
     "text": [
      "MyConfusionMatrix.py:47: RuntimeWarning: invalid value encountered in divide\n",
      "  A = 1.0*Cf / row_sums[:, np.newaxis]\n"
     ]
    }
   ],
   "source": [
    "YRVM, EPRVM, ECFRVM, CFRVM = MyCrossValidate(XTrain = xTrain, ClassLabels = yTrain, Nf = 5, Parameters = Params2)"
   ]
  },
  {
   "cell_type": "code",
   "execution_count": 8,
   "metadata": {},
   "outputs": [
    {
     "data": {
      "text/plain": [
       "array([[0.70564916, 0.04856293, 0.07829534, 0.13478692, 0.00198216,\n",
       "        0.03072349],\n",
       "       [0.10791367, 0.67934224, 0.03391572, 0.12641316, 0.01027749,\n",
       "        0.04213772],\n",
       "       [0.0249501 , 0.07884232, 0.65668663, 0.03692615, 0.16067864,\n",
       "        0.04191617],\n",
       "       [0.1025641 , 0.13609467, 0.07495069, 0.60650888, 0.03254438,\n",
       "        0.04733728],\n",
       "       [0.00898204, 0.00798403, 0.1257485 , 0.04690619, 0.77245509,\n",
       "        0.03792415],\n",
       "       [       nan,        nan,        nan,        nan,        nan,\n",
       "               nan]])"
      ]
     },
     "execution_count": 8,
     "metadata": {},
     "output_type": "execute_result"
    }
   ],
   "source": [
    "CFRVM"
   ]
  },
  {
   "cell_type": "code",
   "execution_count": 9,
   "metadata": {},
   "outputs": [
    {
     "data": {
      "text/plain": [
       "0.6841283980763191"
      ]
     },
     "execution_count": 9,
     "metadata": {},
     "output_type": "execute_result"
    }
   ],
   "source": [
    "B = CFRVM.diagonal()\n",
    "b = np.mean(B[0:5])\n",
    "b"
   ]
  },
  {
   "cell_type": "code",
   "execution_count": 21,
   "metadata": {},
   "outputs": [
    {
     "data": {
      "text/plain": [
       "{'accuracy': 0.885, 'classLabels': array([[ 1, -1, -1, -1, -1, -1],\n",
       "        [-1, -1, -1,  1, -1, -1],\n",
       "        [-1, -1, -1,  1, -1, -1],\n",
       "        ...,\n",
       "        [-1, -1,  1, -1, -1, -1],\n",
       "        [-1, -1, -1,  1, -1, -1],\n",
       "        [-1, -1, -1,  1, -1, -1]]), 'model': OneVsRestClassifier(estimator=RVC(alpha=1e-06, beta=1e-06, beta_fixed=False, bias_used=True, coef0=0.0,\n",
       "   coef1=None, degree=3, kernel='linear', n_iter=1, n_iter_posterior=50,\n",
       "   threshold_alpha=1000000000.0, tol=0.001, verbose=False),\n",
       "           n_jobs=1)}"
      ]
     },
     "execution_count": 21,
     "metadata": {},
     "output_type": "execute_result"
    }
   ],
   "source": [
    "EPRVM[0]"
   ]
  },
  {
   "cell_type": "code",
   "execution_count": 10,
   "metadata": {},
   "outputs": [
    {
     "name": "stdout",
     "output_type": "stream",
     "text": [
      "Starting 1 cross validation...\n",
      "Finish 1 cross validation!\n",
      "Starting 2 cross validation...\n",
      "Finish 2 cross validation!\n",
      "Starting 3 cross validation...\n",
      "Finish 3 cross validation!\n",
      "Starting 4 cross validation...\n",
      "Finish 4 cross validation!\n",
      "Starting 5 cross validation...\n",
      "Finish 5 cross validation!\n",
      "Confusion Matrix:\n",
      "               1         2         3         4         5    Unseen\n",
      "1       0.995283  0.000000  0.004717  0.000000  0.000000  0.000000\n",
      "2       0.004926  0.955665  0.000000  0.019704  0.000000  0.019704\n",
      "3       0.004695  0.000000  0.953052  0.000000  0.009390  0.032864\n",
      "4       0.005348  0.010695  0.005348  0.957219  0.010695  0.010695\n",
      "5       0.000000  0.000000  0.000000  0.005405  0.994595  0.000000\n",
      "Unseen       NaN       NaN       NaN       NaN       NaN       NaN\n",
      "'NaN' represents no samples in this row of class\n",
      "Confusion Matrix:\n",
      "               1         2         3         4         5    Unseen\n",
      "1       0.994872  0.005128  0.000000  0.000000  0.000000  0.000000\n",
      "2       0.011429  0.960000  0.000000  0.011429  0.000000  0.017143\n",
      "3       0.000000  0.000000  0.990476  0.004762  0.004762  0.000000\n",
      "4       0.005000  0.030000  0.005000  0.940000  0.000000  0.020000\n",
      "5       0.009091  0.000000  0.009091  0.000000  0.977273  0.004545\n",
      "Unseen       NaN       NaN       NaN       NaN       NaN       NaN\n",
      "'NaN' represents no samples in this row of class\n",
      "Confusion Matrix:\n",
      "               1         2         3         4         5    Unseen\n",
      "1       0.977778  0.000000  0.005556  0.005556  0.000000  0.011111\n",
      "2       0.014925  0.945274  0.000000  0.039801  0.000000  0.000000\n",
      "3       0.000000  0.000000  0.983696  0.005435  0.005435  0.005435\n",
      "4       0.000000  0.004525  0.000000  0.981900  0.004525  0.009050\n",
      "5       0.004673  0.000000  0.014019  0.004673  0.967290  0.009346\n",
      "Unseen       NaN       NaN       NaN       NaN       NaN       NaN\n",
      "'NaN' represents no samples in this row of class\n",
      "Confusion Matrix:\n",
      "               1         2         3         4         5    Unseen\n",
      "1       0.995495  0.000000  0.000000  0.000000  0.000000  0.004505\n",
      "2       0.010101  0.954545  0.005051  0.025253  0.000000  0.005051\n",
      "3       0.020725  0.000000  0.979275  0.000000  0.000000  0.000000\n",
      "4       0.000000  0.036842  0.000000  0.957895  0.005263  0.000000\n",
      "5       0.005076  0.000000  0.015228  0.015228  0.964467  0.000000\n",
      "Unseen       NaN       NaN       NaN       NaN       NaN       NaN\n",
      "'NaN' represents no samples in this row of class\n",
      "Confusion Matrix:\n",
      "            1         2         3         4         5    Unseen\n",
      "1       0.995  0.005000  0.000000  0.000000  0.000000  0.000000\n",
      "2       0.000  0.979592  0.000000  0.010204  0.000000  0.010204\n",
      "3       0.000  0.000000  0.985149  0.000000  0.004950  0.009901\n",
      "4       0.000  0.023148  0.004630  0.944444  0.009259  0.018519\n",
      "5       0.000  0.000000  0.000000  0.005376  0.994624  0.000000\n",
      "Unseen    NaN       NaN       NaN       NaN       NaN       NaN\n",
      "'NaN' represents no samples in this row of class\n",
      "Confusion Matrix:\n",
      "               1         2         3         4         5    Unseen\n",
      "1       0.992071  0.001982  0.001982  0.000991  0.000000  0.002973\n",
      "2       0.008222  0.958890  0.001028  0.021583  0.000000  0.010277\n",
      "3       0.004990  0.000000  0.978044  0.001996  0.004990  0.009980\n",
      "4       0.001972  0.020710  0.002959  0.956607  0.005917  0.011834\n",
      "5       0.003992  0.000000  0.007984  0.005988  0.979042  0.002994\n",
      "Unseen       NaN       NaN       NaN       NaN       NaN       NaN\n",
      "'NaN' represents no samples in this row of class\n"
     ]
    }
   ],
   "source": [
    "YSVM1, EPSVM1, ECFSVM1, CFSVM1 = MyCrossValidate(XTrain = xTrain, ClassLabels = yTrain, Nf = 5, Parameters = Params1)"
   ]
  },
  {
   "cell_type": "code",
   "execution_count": 11,
   "metadata": {},
   "outputs": [
    {
     "data": {
      "text/plain": [
       "0.9729309424049608"
      ]
     },
     "execution_count": 11,
     "metadata": {},
     "output_type": "execute_result"
    }
   ],
   "source": [
    "A1 = CFSVM1.diagonal()\n",
    "a1 = np.mean(A1[0:5])\n",
    "a1"
   ]
  },
  {
   "cell_type": "code",
   "execution_count": 12,
   "metadata": {},
   "outputs": [
    {
     "data": {
      "text/plain": [
       "366"
      ]
     },
     "execution_count": 12,
     "metadata": {},
     "output_type": "execute_result"
    }
   ],
   "source": [
    "EPSVM1[0]['support_vectors']\n",
    "sum(EPSVM1[0]['support_vectors'])"
   ]
  },
  {
   "cell_type": "code",
   "execution_count": 13,
   "metadata": {},
   "outputs": [
    {
     "data": {
      "text/plain": [
       "362"
      ]
     },
     "execution_count": 13,
     "metadata": {},
     "output_type": "execute_result"
    }
   ],
   "source": [
    "EPSVM1[1]['support_vectors']\n",
    "sum(EPSVM1[1]['support_vectors'])"
   ]
  },
  {
   "cell_type": "code",
   "execution_count": 14,
   "metadata": {},
   "outputs": [
    {
     "data": {
      "text/plain": [
       "353"
      ]
     },
     "execution_count": 14,
     "metadata": {},
     "output_type": "execute_result"
    }
   ],
   "source": [
    "EPSVM1[2]['support_vectors']\n",
    "sum(EPSVM1[2]['support_vectors'])"
   ]
  },
  {
   "cell_type": "code",
   "execution_count": 15,
   "metadata": {},
   "outputs": [
    {
     "data": {
      "text/plain": [
       "355"
      ]
     },
     "execution_count": 15,
     "metadata": {},
     "output_type": "execute_result"
    }
   ],
   "source": [
    "EPSVM1[3]['support_vectors']\n",
    "sum(EPSVM1[3]['support_vectors'])"
   ]
  },
  {
   "cell_type": "code",
   "execution_count": 16,
   "metadata": {},
   "outputs": [
    {
     "data": {
      "text/plain": [
       "358"
      ]
     },
     "execution_count": 16,
     "metadata": {},
     "output_type": "execute_result"
    }
   ],
   "source": [
    "EPSVM1[4]['support_vectors']\n",
    "sum(EPSVM1[4]['support_vectors'])"
   ]
  },
  {
   "cell_type": "markdown",
   "metadata": {},
   "source": [
    "3. Perform 5-fold CV on GPR"
   ]
  },
  {
   "cell_type": "code",
   "execution_count": null,
   "metadata": {},
   "outputs": [
    {
     "name": "stdout",
     "output_type": "stream",
     "text": [
      "Starting 1 cross validation...\n",
      "fitting\n",
      "predicting\n",
      "scoring\n",
      "accuracy\n",
      "0.956\n",
      "Accuracy is: 0.956\n",
      "Finish 1 cross validation!\n",
      "Starting 2 cross validation...\n",
      "fitting\n"
     ]
    },
    {
     "name": "stderr",
     "output_type": "stream",
     "text": [
      "/usr/local/lib/python2.7/site-packages/sklearn/gaussian_process/gpc.py:430: UserWarning: fmin_l_bfgs_b terminated abnormally with the  state: {'warnflag': 2, 'task': 'ABNORMAL_TERMINATION_IN_LNSRCH', 'grad': array([ 0.06143602, -0.19257402]), 'nit': 12, 'funcalls': 64}\n",
      "  \" state: %s\" % convergence_dict)\n"
     ]
    },
    {
     "name": "stdout",
     "output_type": "stream",
     "text": [
      "predicting\n",
      "scoring\n",
      "accuracy\n",
      "0.884\n",
      "Accuracy is: 0.884\n",
      "Finish 2 cross validation!\n",
      "Starting 3 cross validation...\n",
      "fitting\n",
      "predicting\n",
      "scoring\n",
      "accuracy\n",
      "0.98\n",
      "Accuracy is: 0.98\n",
      "Finish 3 cross validation!\n",
      "Starting 4 cross validation...\n",
      "fitting\n"
     ]
    }
   ],
   "source": [
    "[YGPR, EPGPR, ECFGPR, CFGPR] = MyCrossValidate(XTrain = xTrain, ClassLabels = yTrain, Nf = 5, Parameters = Params3)"
   ]
  },
  {
   "cell_type": "code",
   "execution_count": null,
   "metadata": {
    "collapsed": true
   },
   "outputs": [],
   "source": [
    "CFGPR"
   ]
  }
 ],
 "metadata": {
  "kernelspec": {
   "display_name": "Python 2",
   "language": "python",
   "name": "python2"
  },
  "language_info": {
   "codemirror_mode": {
    "name": "ipython",
    "version": 2
   },
   "file_extension": ".py",
   "mimetype": "text/x-python",
   "name": "python",
   "nbconvert_exporter": "python",
   "pygments_lexer": "ipython2",
   "version": "2.7.14"
  }
 },
 "nbformat": 4,
 "nbformat_minor": 2
}
